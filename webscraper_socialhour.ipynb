{
 "cells": [
  {
   "cell_type": "code",
   "execution_count": 2,
   "metadata": {
    "scrolled": false
   },
   "outputs": [],
   "source": [
    "import bs4\n",
    "import csv\n",
    "import enchant\n",
    "import re\n",
    "from difflib import SequenceMatcher\n",
    "from selenium import webdriver\n",
    "\n",
    "path_to_webdriver = '/Users/ellykuhlman/Downloads/chromedriver'\n",
    "browser = webdriver.Chrome(executable_path = path_to_webdriver)\n",
    "\n",
    "url = 'https://www.socialhourcocktails.com/recipes'\n",
    "browser.get(url)\n",
    "\n",
    "html = browser.page_source"
   ]
  },
  {
   "cell_type": "code",
   "execution_count": 3,
   "metadata": {},
   "outputs": [],
   "source": [
    "html = html.replace('\\xa0', ' ').\\\n",
    "            replace('\\u200b', '').\\\n",
    "            replace('Go to recipe page...', '').\\\n",
    "            replace('Go recipe page...', '').\\\n",
    "            replace('Go to recipe page…', '').\\\n",
    "            replace('Continued on recipe page..', '').\\\n",
    "            replace(' Panel 2', '').\\\n",
    "            replace(' Panel 3', '')\n",
    "\n",
    "soup = bs4.BeautifulSoup(html, \"html5lib\")"
   ]
  },
  {
   "cell_type": "code",
   "execution_count": 4,
   "metadata": {},
   "outputs": [],
   "source": [
    "d = enchant.Dict('en_US')"
   ]
  },
  {
   "cell_type": "code",
   "execution_count": 29,
   "metadata": {
    "collapsed": true
   },
   "outputs": [
    {
     "name": "stdout",
     "output_type": "stream",
     "text": [
      "Changes to baking spice aromatic bitters: \n",
      "Changes to Campari or   Aperol: Campari\n",
      "Changes to ros or brut sparkling wine: sparkling wine\n",
      "Changes to pinch salt *: salt*\n",
      "replace salt* in salt*: \n",
      "Changes to half a lemon quartered: lemon\n",
      "replace blanco in blanco tequila: \n",
      "Changes to about  of an egg white: egg white\n",
      "Changes to fresh pineapple juice or   chunks pineapple: pineapple or pineapple juice\n",
      "replace prosecco in prosecco: \n",
      "replace Lpez in Coco Lpez: Lopez\n",
      "Changes to peach brandy or apple brandy: apple brandy\n",
      "Changes to quart cold water: water\n",
      "replace teainfused in teainfused bourbon: tea-infused\n",
      "Changes to tsp demerara syrup  or other sugar: demerara syrup\n",
      "Changes to orange bitters *: \n",
      "Changes to Jerry Thomas Decanter Bitters *: \n",
      "Changes to of orange bitters *: orange bitters *\n",
      "replace * in orange bitters *: \n",
      "Changes to lime disc *: lime\n",
      "Changes to Cointreau  or other orange liqueur: orange liqueur\n",
      "Changes to egg white  *: \n",
      "Changes to mint leaves no stems: \n",
      "Changes to chilled soda water: soda water\n",
      "replace Peychauds in Peychauds bitters: \n",
      "Changes to two lime wedges: lime\n",
      "replace cachaa in cachaa: \n",
      "Changes to half a lime cut into quarters: lime\n",
      "Changes to old tom gin: gin\n",
      "replace Lpez in Coco Lpez: Lopez\n",
      "replace Pimms in Pimms: \n",
      "Changes to Zest of  oranges: orange zest\n",
      "Changes to dark brown sugar: \n",
      "Changes to Rainwater Madeira or Medium Dry Sherry: madeira or sherry\n",
      "replace madeira in madeira or sherry: \n",
      "replace calvados in calvados: \n",
      "Changes to slices of ginger: ginger\n",
      "replace teapsoon in teapsoon cloves: cloves\n",
      "Changes to of red wine: red wine\n",
      "Changes to or so whole cloves: cloves\n",
      "Changes to zest of  oranges: orange zest\n",
      "Changes to baking spice aromatic bitters: \n",
      "Changes to spirit  either   each of brandy and dark rum or   bourbon: bourbon\n",
      "Changes to batter  see recipe page:  \n",
      "Changes to crushed cinnamon bark or  whole cinnamon sticks: cinnamon sticks\n",
      "replace cinnabark in cinnabark Syrup: \n",
      "Changes to demerara or brown sugar syrup: demerara syrup\n",
      "Changes to toasted hazelnutinfused bourbon: hazelnut-infused bourbon\n",
      "replace hazelnut-infused in hazelnut-infused bourbon: \n",
      "replace angostura in angostura bitters: \n",
      "Changes to cinnamon syrup or   honey: cinnamon syrup\n"
     ]
    }
   ],
   "source": [
    "one_recipe_soup = soup.find_all('div', class_='style-iwqinworimageItemzoom')\n",
    "two_recipe_soup = soup.find_all('div', class_='mg2imageItemimageWrapper')\n",
    "\n",
    "recipe_soup = one_recipe_soup + two_recipe_soup\n",
    "\n",
    "recipes = {}\n",
    "ignore = ['demerara', 'Campari', 'Angostura']\n",
    "\n",
    "for recipe in recipe_soup:\n",
    "    name = recipe.find(itemprop='name').contents[0]\n",
    "    ingredient_soup = recipe.find(itemprop=\"description\").find_all(\"span\")\n",
    "    instructions = [i.contents[0] for i in ingredient_soup \\\n",
    "                     if i.contents and i.contents[0] != ' ']\n",
    "    \n",
    "    if len(instructions) > 1 and instructions[-2][0].isupper():\n",
    "        instructions[-2] = instructions[-2] + instructions[-1]\n",
    "        instructions.pop()\n",
    "    \n",
    "    ingredients = [i.replace('oz', '').\\\n",
    "                   replace('cups', '').\\\n",
    "                   replace('cup', '').\\\n",
    "                   replace('dashes', '').\\\n",
    "                   replace('dash', '').\\\n",
    "                   replace('teaspoons', '').\\\n",
    "                   replace('teaspoon', '').\\\n",
    "                   replace('teapsoon', '').\\\n",
    "                   replace('tablespoons', '').\\\n",
    "                   replace('tablespoon', '').\\\n",
    "                   replace('gallon', '').\\\n",
    "                   replace('scant', '').\\\n",
    "                   replace('small', '').\\\n",
    "                   replace('ml bottle', '').\\\n",
    "                   replace('bottles', '')\\\n",
    "                   for i in instructions[:-1]]\n",
    "    \n",
    "    for i in range(len(ingredients)):\n",
    "        ingredients[i] = re.sub('[^\\\\sA-Za-z]', '', ingredients[i]).strip()\n",
    "        \n",
    "        if 'simple syrup' in ingredients[i]:\n",
    "            ingredients[i] = 'simple syrup'\n",
    "        if 'bourbon' in ingredients[i] and 'rye' in ingredients[i]:\n",
    "            ingredients[i] = 'whiskey'\n",
    "        if 'optional' in ingredients[i]:\n",
    "            ingredients[i] = ingredients[i].replace('optional', '*')\n",
    "        \n",
    "        if len(re.findall('\\S+', ingredients[i])) > 2:\n",
    "            answer = input('Changes to {}: '.format(ingredients[i]))\n",
    "            if answer != '':\n",
    "                ingredients[i] = answer\n",
    "            else:\n",
    "                continue\n",
    "        \n",
    "        for word in re.findall('\\S+', ingredients[i]):\n",
    "            if d.check(word) == False and word not in ignore:\n",
    "                answer = input('replace {} in {}: '.format(word, ingredients[i]))\n",
    "                if answer != '':\n",
    "                    ingredients[i].replace(word, answer)\n",
    "                else:\n",
    "                    ignore.append(word)\n",
    "    \n",
    "    recipes[name] = ingredients, instructions\n",
    "\n",
    "        "
   ]
  },
  {
   "cell_type": "code",
   "execution_count": 34,
   "metadata": {},
   "outputs": [],
   "source": [
    "def check_sim(check_item, check_list):\n",
    "    for element in check_list:\n",
    "        if SequenceMatcher(None, check_item, element).ratio() > 0.625:\n",
    "            answer = input('is {} the same as {}? '.format(check_item, element))\n",
    "            if answer == 'y':\n",
    "                return element\n",
    "    return None"
   ]
  },
  {
   "cell_type": "code",
   "execution_count": 41,
   "metadata": {},
   "outputs": [
    {
     "name": "stdout",
     "output_type": "stream",
     "text": [
      "is simple syrup the same as maple syrup? n\n",
      "is lime juice the same as lemon juice? n\n",
      "is peach liqueur the same as coffee liqueur? n\n",
      "is lemon shrub the same as lemon juice? n\n",
      "is dry vermouth the same as sweet vermouth? n\n",
      "is orange liqueur the same as coffee liqueur? n\n",
      "is orange liqueur the same as peach liqueur? n\n",
      "is soda water the same as water? n\n",
      "is orange bitters the same as Angostura bitters? n\n",
      "is orange bitters the same as orange liqueur? n\n",
      "is cinnamon sticks the same as cinnamon syrup? n\n",
      "is whole nutmeg the same as grated nutmeg? n\n",
      "is orange zest the same as orange liqueur? n\n",
      "is orange zest the same as orange bitters? n\n",
      "is ginger the same as gin? n\n",
      "is ginger the same as ginger beer? n\n",
      "is hazelnut-infused bourbon the same as teainfused bourbon? n\n"
     ]
    }
   ],
   "source": [
    "master_ingredients = []\n",
    "\n",
    "for key in recipes:\n",
    "    for i in range(len(recipes[key][0])):\n",
    "        if '*' in recipes[key][0][i]:\n",
    "            continue\n",
    "        if recipes[key][0][i] == '' or recipes[key][0][i] == ' ':\n",
    "            continue\n",
    "        if recipes[key][0][i] not in master_ingredients:\n",
    "            replacement = check_sim(recipes[key][0][i], master_ingredients)\n",
    "            if replacement == None:\n",
    "                master_ingredients.append(recipes[key][0][i])\n",
    "            else:\n",
    "                recipes[key][0][i] = replacement\n",
    "                \n"
   ]
  },
  {
   "cell_type": "code",
   "execution_count": null,
   "metadata": {},
   "outputs": [],
   "source": []
  },
  {
   "cell_type": "code",
   "execution_count": null,
   "metadata": {},
   "outputs": [],
   "source": []
  },
  {
   "cell_type": "code",
   "execution_count": 42,
   "metadata": {},
   "outputs": [],
   "source": [
    "with open('master_cocktails.csv', 'w', newline='') as f:\n",
    "    cocktailWriter = csv.writer(f)\n",
    "    \n",
    "    for key in recipes.keys():\n",
    "        cocktailWriter.writerow((str(key), str(recipes[key][0]), str(recipes[key][1])))\n",
    "        "
   ]
  },
  {
   "cell_type": "code",
   "execution_count": 43,
   "metadata": {},
   "outputs": [],
   "source": [
    "with open('master_bar.csv', 'w', newline='') as g:\n",
    "    barWriter = csv.writer(g)\n",
    "    \n",
    "    barWriter.writerow(master_ingredients)"
   ]
  },
  {
   "cell_type": "code",
   "execution_count": null,
   "metadata": {},
   "outputs": [],
   "source": []
  }
 ],
 "metadata": {
  "kernelspec": {
   "display_name": "Python 3",
   "language": "python",
   "name": "python3"
  },
  "language_info": {
   "codemirror_mode": {
    "name": "ipython",
    "version": 3
   },
   "file_extension": ".py",
   "mimetype": "text/x-python",
   "name": "python",
   "nbconvert_exporter": "python",
   "pygments_lexer": "ipython3",
   "version": "3.6.2"
  }
 },
 "nbformat": 4,
 "nbformat_minor": 2
}
